{
 "cells": [
  {
   "cell_type": "markdown",
   "metadata": {},
   "source": [
    "# Introduction\n",
    "\n",
    "In this project, you will build a neural network of your own design to evaluate the MNIST dataset.\n",
    "\n",
    "Some of the benchmark results on MNIST include can be found [on Yann LeCun's page](http://yann.lecun.com/exdb/mnist/) and include:\n",
    "\n",
    "88% [Lecun et al., 1998](http://yann.lecun.com/exdb/publis/pdf/lecun-98.pdf)\n",
    "95.3% [Lecun et al., 1998](http://yann.lecun.com/exdb/publis/pdf/lecun-98.pdf)\n",
    "99.65% [Ciresan et al., 2011](http://people.idsia.ch/~juergen/ijcai2011.pdf)\n",
    "\n",
    "MNIST is a great dataset for sanity checking your models, since the accuracy levels achieved by large convolutional neural networks and small linear models are both quite high. This makes it important to be familiar with the data.\n",
    "\n",
    "## Imports"
   ]
  },
  {
   "cell_type": "code",
   "execution_count": 1,
   "metadata": {
    "execution": {
     "iopub.execute_input": "2023-06-14T05:16:54.716271Z",
     "iopub.status.busy": "2023-06-14T05:16:54.715863Z",
     "iopub.status.idle": "2023-06-14T05:16:57.799167Z",
     "shell.execute_reply": "2023-06-14T05:16:57.798188Z",
     "shell.execute_reply.started": "2023-06-14T05:16:54.716241Z"
    }
   },
   "outputs": [],
   "source": [
    "## This cell contains the essential imports you will need – DO NOT CHANGE THE CONTENTS! ##\n",
    "import torch\n",
    "import torch.nn as nn\n",
    "import torch.nn.functional as F\n",
    "import torch.optim as optim\n",
    "import torchvision\n",
    "import torchvision.transforms as transforms\n",
    "import matplotlib.pyplot as plt\n",
    "import numpy as np\n",
    "# from torchvision import transforms\n",
    "# from torchvision import datasets"
   ]
  },
  {
   "cell_type": "markdown",
   "metadata": {},
   "source": [
    "## Load the Dataset\n",
    "\n",
    "Specify your transforms as a list if you intend to .\n",
    "The transforms module is already loaded as `transforms`.\n",
    "\n",
    "MNIST is fortunately included in the torchvision module.\n",
    "Then, you can create your dataset using the `MNIST` object from `torchvision.datasets` ([the documentation is available here](https://pytorch.org/vision/stable/datasets.html#mnist)).\n",
    "Make sure to specify `download=True`! \n",
    "\n",
    "Once your dataset is created, you'll also need to define a `DataLoader` from the `torch.utils.data` module for both the train and the test set."
   ]
  },
  {
   "cell_type": "code",
   "execution_count": 2,
   "metadata": {
    "execution": {
     "iopub.execute_input": "2023-06-14T05:17:01.464656Z",
     "iopub.status.busy": "2023-06-14T05:17:01.463751Z",
     "iopub.status.idle": "2023-06-14T05:17:03.073353Z",
     "shell.execute_reply": "2023-06-14T05:17:03.072418Z",
     "shell.execute_reply.started": "2023-06-14T05:17:01.464623Z"
    }
   },
   "outputs": [
    {
     "name": "stderr",
     "output_type": "stream",
     "text": [
      "/opt/conda/lib/python3.7/site-packages/torchvision/datasets/mnist.py:498: UserWarning: The given NumPy array is not writable, and PyTorch does not support non-writable tensors. This means writing to this tensor will result in undefined behavior. You may want to copy the array to protect its data or make it writable before converting it to a tensor. This type of warning will be suppressed for the rest of this program. (Triggered internally at  ../torch/csrc/utils/tensor_numpy.cpp:178.)\n",
      "  return torch.from_numpy(parsed.astype(m[2], copy=False)).view(*s)\n"
     ]
    }
   ],
   "source": [
    "# Define transforms\n",
    "## YOUR CODE HERE ##\n",
    "transform = transforms.Compose([transforms.ToTensor(), \n",
    "                                transforms.Normalize([0.5],[0.5])])\n",
    "\n",
    "# Create training set and define training dataloader\n",
    "## YOUR CODE HERE ##\n",
    "trainset = torchvision.datasets.MNIST(root='data', download=True, train=True, transform=transform)\n",
    "trainloader = torch.utils.data.DataLoader(trainset, batch_size=32, shuffle=True)\n",
    "\n",
    "# Create test set and define test dataloader\n",
    "## YOUR CODE HERE ##\n",
    "testset = torchvision.datasets.MNIST(root='data', download=True, train=False, transform=transform)\n",
    "testloader = torch.utils.data.DataLoader(testset, batch_size=32, shuffle=True)"
   ]
  },
  {
   "cell_type": "markdown",
   "metadata": {},
   "source": [
    "## Justify your preprocessing\n",
    "\n",
    "In your own words, why did you choose the transforms you chose? If you didn't use any preprocessing steps, why not?"
   ]
  },
  {
   "cell_type": "markdown",
   "metadata": {},
   "source": [
    "**DOUBLE CLICK THIS CELL TO MODIFY**\n",
    "\n",
    "1)Used ToTensor tranformations to convert each image in form of a tensor so that it can be passed to and processed by a model\n",
    "\n",
    "2)Used Normalise tranforms to standardise the variables around zero mean to avoid data variations"
   ]
  },
  {
   "cell_type": "markdown",
   "metadata": {},
   "source": [
    "## Explore the Dataset\n",
    "Using matplotlib, numpy, and torch, explore the dimensions of your data.\n",
    "\n",
    "You can view images using the `show5` function defined below – it takes a data loader as an argument.\n",
    "Remember that normalized images will look really weird to you! You may want to try changing your transforms to view images.\n",
    "Typically using no transforms other than `toTensor()` works well for viewing – but not as well for training your network.\n",
    "If `show5` doesn't work, go back and check your code for creating your data loaders and your training/test sets."
   ]
  },
  {
   "cell_type": "code",
   "execution_count": 3,
   "metadata": {
    "execution": {
     "iopub.execute_input": "2023-06-14T05:17:09.664079Z",
     "iopub.status.busy": "2023-06-14T05:17:09.663677Z",
     "iopub.status.idle": "2023-06-14T05:17:09.671235Z",
     "shell.execute_reply": "2023-06-14T05:17:09.670204Z",
     "shell.execute_reply.started": "2023-06-14T05:17:09.664048Z"
    }
   },
   "outputs": [],
   "source": [
    "## This cell contains a function for showing 5 images from a dataloader – DO NOT CHANGE THE CONTENTS! ##\n",
    "def show5(img_loader):\n",
    "    dataiter = iter(img_loader)\n",
    "    \n",
    "    batch = next(dataiter)\n",
    "    labels = batch[1][0:5]\n",
    "    images = batch[0][0:5]\n",
    "    for i in range(5):\n",
    "        print(int(labels[i].detach()))\n",
    "    \n",
    "        image = images[i].numpy()\n",
    "        plt.imshow(image.T.squeeze().T)\n",
    "        plt.show()"
   ]
  },
  {
   "cell_type": "code",
   "execution_count": 4,
   "metadata": {
    "execution": {
     "iopub.execute_input": "2023-06-14T05:17:12.000744Z",
     "iopub.status.busy": "2023-06-14T05:17:12.000388Z",
     "iopub.status.idle": "2023-06-14T05:17:13.416008Z",
     "shell.execute_reply": "2023-06-14T05:17:13.415041Z",
     "shell.execute_reply.started": "2023-06-14T05:17:12.000716Z"
    }
   },
   "outputs": [
    {
     "name": "stdout",
     "output_type": "stream",
     "text": [
      "1\n"
     ]
    },
    {
     "data": {
      "image/png": "[encoded data removed]",
      "text/plain": [
       "<Figure size 432x288 with 1 Axes>"
      ]
     },
     "metadata": {
      "needs_background": "light"
     },
     "output_type": "display_data"
    },
    {
     "name": "stdout",
     "output_type": "stream",
     "text": [
      "3\n"
     ]
    },
    {
     "data": {
      "image/png": "[encoded data removed]",
      "text/plain": [
       "<Figure size 432x288 with 1 Axes>"
      ]
     },
     "metadata": {
      "needs_background": "light"
     },
     "output_type": "display_data"
    },
    {
     "name": "stdout",
     "output_type": "stream",
     "text": [
      "0\n"
     ]
    },
    {
     "data": {
      "image/png": "[encoded data removed]",
      "text/plain": [
       "<Figure size 432x288 with 1 Axes>"
      ]
     },
     "metadata": {
      "needs_background": "light"
     },
     "output_type": "display_data"
    },
    {
     "name": "stdout",
     "output_type": "stream",
     "text": [
      "5\n"
     ]
    },
    {
     "data": {
      "image/png": "[encoded data removed]",
      "text/plain": [
       "<Figure size 432x288 with 1 Axes>"
      ]
     },
     "metadata": {
      "needs_background": "light"
     },
     "output_type": "display_data"
    },
    {
     "name": "stdout",
     "output_type": "stream",
     "text": [
      "2\n"
     ]
    },
    {
     "data": {
      "image/png": "[encoded data removed]",
      "text/plain": [
       "<Figure size 432x288 with 1 Axes>"
      ]
     },
     "metadata": {
      "needs_background": "light"
     },
     "output_type": "display_data"
    }
   ],
   "source": [
    "# Explore data\n",
    "## YOUR CODE HERE ##\n",
    "show5(trainloader)"
   ]
  },
  {
   "cell_type": "markdown",
   "metadata": {},
   "source": [
    "## Build your Neural Network\n",
    "Using the layers in `torch.nn` (which has been imported as `nn`) and the `torch.nn.functional` module (imported as `F`), construct a neural network based on the parameters of the dataset.\n",
    "Use any architecture you like. \n",
    "\n",
    "*Note*: If you did not flatten your tensors in your transforms or as part of your preprocessing and you are using only `Linear` layers, make sure to use the `Flatten` layer in your network!"
   ]
  },
  {
   "cell_type": "code",
   "execution_count": 5,
   "metadata": {
    "execution": {
     "iopub.execute_input": "2023-06-14T05:17:20.871573Z",
     "iopub.status.busy": "2023-06-14T05:17:20.871200Z",
     "iopub.status.idle": "2023-06-14T05:17:20.884126Z",
     "shell.execute_reply": "2023-06-14T05:17:20.883121Z",
     "shell.execute_reply.started": "2023-06-14T05:17:20.871544Z"
    }
   },
   "outputs": [],
   "source": [
    "## YOUR CODE HERE ##\n",
    "model = nn.Sequential(nn.Linear(28*28,512),\n",
    "                     nn.Sigmoid(),\n",
    "                     nn.Linear(512,128),\n",
    "                     nn.Sigmoid(),\n",
    "                     nn.Linear(128,64),\n",
    "                     nn.Sigmoid(),\n",
    "                     nn.Linear(64,10),\n",
    "                     nn.LogSoftmax(dim = 1))"
   ]
  },
  {
   "cell_type": "markdown",
   "metadata": {},
   "source": [
    "Specify a loss function and an optimizer, and instantiate the model.\n",
    "\n",
    "If you use a less common loss function, please note why you chose that loss function in a comment."
   ]
  },
  {
   "cell_type": "code",
   "execution_count": 6,
   "metadata": {
    "execution": {
     "iopub.execute_input": "2023-06-14T05:17:23.742495Z",
     "iopub.status.busy": "2023-06-14T05:17:23.741784Z",
     "iopub.status.idle": "2023-06-14T05:17:23.747488Z",
     "shell.execute_reply": "2023-06-14T05:17:23.746595Z",
     "shell.execute_reply.started": "2023-06-14T05:17:23.742462Z"
    }
   },
   "outputs": [],
   "source": [
    "## YOUR CODE HERE ##\n",
    "optimiser = optim.Adam(model.parameters(), lr=0.00032)\n",
    "\n",
    "criterion = nn.NLLLoss()\n",
    "#used Negative Log likelihood loss as logits(log of softmax) is returned as output"
   ]
  },
  {
   "cell_type": "markdown",
   "metadata": {},
   "source": [
    "## Running your Neural Network\n",
    "Use whatever method you like to train your neural network, and ensure you record the average loss at each epoch. \n",
    "Don't forget to use `torch.device()` and the `.to()` method for both your model and your data if you are using GPU!\n",
    "\n",
    "If you want to print your loss **during** each epoch, you can use the `enumerate` function and print the loss after a set number of batches. 250 batches works well for most people!"
   ]
  },
  {
   "cell_type": "code",
   "execution_count": 9,
   "metadata": {
    "execution": {
     "iopub.execute_input": "2023-06-14T05:17:26.774414Z",
     "iopub.status.busy": "2023-06-14T05:17:26.773634Z",
     "iopub.status.idle": "2023-06-14T05:18:29.746177Z",
     "shell.execute_reply": "2023-06-14T05:18:29.745215Z",
     "shell.execute_reply.started": "2023-06-14T05:17:26.774379Z"
    },
    "scrolled": true
   },
   "outputs": [
    {
     "name": "stdout",
     "output_type": "stream",
     "text": [
      "Epoch 1/4:-Training loss 0.104\n",
      "Epoch 1/4:-Running loss 0.116\n",
      "Epoch 2/4:-Training loss 0.085\n",
      "Epoch 2/4:-Running loss 0.100\n",
      "Epoch 3/4:-Training loss 0.071\n",
      "Epoch 3/4:-Running loss 0.083\n",
      "Epoch 4/4:-Training loss 0.060\n",
      "Epoch 4/4:-Running loss 0.076\n"
     ]
    }
   ],
   "source": [
    "## YOUR CODE HERE ##\n",
    "device = torch.device(\"cuda\" if torch.cuda.is_available() else \"cpu\")\n",
    "\n",
    "epochs=4\n",
    "train_loss_history=[]\n",
    "test_loss_history=[]\n",
    "\n",
    "for i in range(epochs):\n",
    "    training_loss = 0\n",
    "    running_loss = 0\n",
    "    model.to(device)\n",
    "    model.train()\n",
    "    for images, labels in trainloader:\n",
    "        images = images.view(images.shape[0],-1)\n",
    "        images, labels = images.to(device), labels.to(device)\n",
    "        \n",
    "        optimiser.zero_grad()\n",
    "        output = model(images)\n",
    "        \n",
    "        loss = criterion(output, labels)\n",
    "        loss.backward()\n",
    "        optimiser.step()\n",
    "        \n",
    "        training_loss += loss.item()\n",
    "    \n",
    "    print(f\"Epoch {i+1}/{epochs}:-\"\n",
    "          f\"Training loss {training_loss/len(trainloader):.3f}\")\n",
    "    \n",
    "    train_loss_history.append(training_loss/len(trainloader))\n",
    "    \n",
    "    model.eval()\n",
    "    with torch.no_grad():    \n",
    "        for images, labels in testloader:\n",
    "            images = images.view(images.shape[0],-1)\n",
    "            images, labels = images.to(device), labels.to(device)\n",
    "            \n",
    "            output = model(images)\n",
    "            rloss = criterion(output, labels)\n",
    "            \n",
    "            running_loss += rloss.item()\n",
    "            \n",
    "        print(f\"Epoch {i+1}/{epochs}:-\"\n",
    "          f\"Running loss {running_loss/len(testloader):.3f}\")\n",
    "        \n",
    "        test_loss_history.append(running_loss/len(testloader))  \n",
    "    model.train()"
   ]
  },
  {
   "cell_type": "markdown",
   "metadata": {},
   "source": [
    "Plot the training loss (and validation loss/accuracy, if recorded)."
   ]
  },
  {
   "cell_type": "code",
   "execution_count": 10,
   "metadata": {
    "execution": {
     "iopub.execute_input": "2023-06-14T05:21:58.887484Z",
     "iopub.status.busy": "2023-06-14T05:21:58.887031Z",
     "iopub.status.idle": "2023-06-14T05:21:59.212708Z",
     "shell.execute_reply": "2023-06-14T05:21:59.211791Z",
     "shell.execute_reply.started": "2023-06-14T05:21:58.887451Z"
    }
   },
   "outputs": [
    {
     "data": {
      "text/plain": [
       "<matplotlib.legend.Legend at 0x7f578dbdc750>"
      ]
     },
     "execution_count": 10,
     "metadata": {},
     "output_type": "execute_result"
    },
    {
     "data": {
      "image/png": "[encoded data removed]",
      "text/plain": [
       "<Figure size 432x288 with 1 Axes>"
      ]
     },
     "metadata": {
      "needs_background": "light"
     },
     "output_type": "display_data"
    }
   ],
   "source": [
    "## YOUR CODE HERE ##\n",
    "import matplotlib.pyplot as plt\n",
    "%matplotlib inline \n",
    "\n",
    "l = [1,2,3,4]\n",
    "\n",
    "plt.plot(l, train_loss_history, label = \"Training loss\")\n",
    "plt.plot(l, test_loss_history, label = \"Running loss\")\n",
    "plt.title(\"Train and Test loss plot\")\n",
    "plt.legend()"
   ]
  },
  {
   "cell_type": "markdown",
   "metadata": {},
   "source": [
    "## Testing your model\n",
    "Using the previously created `DataLoader` for the test set, compute the percentage of correct predictions using the highest probability prediction. \n",
    "\n",
    "If your accuracy is over 90%, great work, but see if you can push a bit further! \n",
    "If your accuracy is under 90%, you'll need to make improvements.\n",
    "Go back and check your model architecture, loss function, and optimizer to make sure they're appropriate for an image classification task."
   ]
  },
  {
   "cell_type": "code",
   "execution_count": 11,
   "metadata": {
    "execution": {
     "iopub.execute_input": "2023-06-14T05:28:58.685270Z",
     "iopub.status.busy": "2023-06-14T05:28:58.684855Z",
     "iopub.status.idle": "2023-06-14T05:29:00.799013Z",
     "shell.execute_reply": "2023-06-14T05:29:00.797955Z",
     "shell.execute_reply.started": "2023-06-14T05:28:58.685242Z"
    }
   },
   "outputs": [
    {
     "name": "stdout",
     "output_type": "stream",
     "text": [
      "Model accuracy is 97.634\n"
     ]
    },
    {
     "data": {
      "text/plain": [
       "Sequential(\n",
       "  (0): Linear(in_features=784, out_features=512, bias=True)\n",
       "  (1): Sigmoid()\n",
       "  (2): Linear(in_features=512, out_features=128, bias=True)\n",
       "  (3): Sigmoid()\n",
       "  (4): Linear(in_features=128, out_features=64, bias=True)\n",
       "  (5): Sigmoid()\n",
       "  (6): Linear(in_features=64, out_features=10, bias=True)\n",
       "  (7): LogSoftmax(dim=1)\n",
       ")"
      ]
     },
     "execution_count": 11,
     "metadata": {},
     "output_type": "execute_result"
    }
   ],
   "source": [
    "## YOUR CODE HERE ##\n",
    "model.eval()\n",
    "device = torch.device(\"cuda\" if torch.cuda.is_available() else \"cpu\")\n",
    "model.to(device)\n",
    "\n",
    "accuracy = 0\n",
    "for images, labels in testloader:\n",
    "    images = images.view(images.shape[0],-1)\n",
    "    images, labels = images.to(device), labels.to(device)\n",
    "        \n",
    "    outputs = model(images)\n",
    "    top_prob, top_class = outputs.topk(1, dim = 1)\n",
    "    equals = top_class==labels.view(top_class.shape)\n",
    "    accuracy += torch.mean(equals.type(torch.FloatTensor))\n",
    "       \n",
    "print(f\"Model accuracy is {accuracy/len(testloader)*100:.3f}\")\n",
    "model.train()\n",
    "    "
   ]
  },
  {
   "cell_type": "markdown",
   "metadata": {},
   "source": [
    "## Improving your model\n",
    "\n",
    "Once your model is done training, try tweaking your hyperparameters and training again below to improve your accuracy on the test set!"
   ]
  },
  {
   "cell_type": "code",
   "execution_count": 51,
   "metadata": {},
   "outputs": [],
   "source": [
    "## YOUR CODE HERE ##\n",
    "model = nn.Sequential(nn.Linear(28*28,512),\n",
    "                     nn.ReLU(),\n",
    "                     nn.Linear(512,128),\n",
    "                     nn.ReLU(),\n",
    "                     nn.Linear(128,64),\n",
    "                     nn.ReLU(),\n",
    "                     nn.Linear(64,10),\n",
    "                     nn.LogSoftmax(dim = 1))\n",
    "\n",
    "optimiser = optim.SGD(model.parameters(), lr=0.003)\n",
    "\n",
    "criterion = nn.NLLLoss()"
   ]
  },
  {
   "cell_type": "code",
   "execution_count": 59,
   "metadata": {},
   "outputs": [
    {
     "name": "stdout",
     "output_type": "stream",
     "text": [
      "Epoch 1/20:-Training loss 0.089\n",
      "Epoch 1/20:-Running loss 0.106\n",
      "Epoch 2/20:-Training loss 0.085\n",
      "Epoch 2/20:-Running loss 0.102\n",
      "Epoch 3/20:-Training loss 0.081\n",
      "Epoch 3/20:-Running loss 0.100\n",
      "Epoch 4/20:-Training loss 0.078\n",
      "Epoch 4/20:-Running loss 0.099\n",
      "Epoch 5/20:-Training loss 0.074\n",
      "Epoch 5/20:-Running loss 0.104\n",
      "Epoch 6/20:-Training loss 0.072\n",
      "Epoch 6/20:-Running loss 0.096\n",
      "Epoch 7/20:-Training loss 0.068\n",
      "Epoch 7/20:-Running loss 0.093\n",
      "Epoch 8/20:-Training loss 0.065\n",
      "Epoch 8/20:-Running loss 0.091\n",
      "Epoch 9/20:-Training loss 0.063\n",
      "Epoch 9/20:-Running loss 0.091\n",
      "Epoch 10/20:-Training loss 0.060\n",
      "Epoch 10/20:-Running loss 0.090\n",
      "Epoch 11/20:-Training loss 0.058\n",
      "Epoch 11/20:-Running loss 0.088\n",
      "Epoch 12/20:-Training loss 0.055\n",
      "Epoch 12/20:-Running loss 0.089\n",
      "Epoch 13/20:-Training loss 0.053\n",
      "Epoch 13/20:-Running loss 0.085\n",
      "Epoch 14/20:-Training loss 0.051\n",
      "Epoch 14/20:-Running loss 0.085\n",
      "Epoch 15/20:-Training loss 0.049\n",
      "Epoch 15/20:-Running loss 0.082\n",
      "Epoch 16/20:-Training loss 0.047\n",
      "Epoch 16/20:-Running loss 0.082\n",
      "Epoch 17/20:-Training loss 0.045\n",
      "Epoch 17/20:-Running loss 0.082\n",
      "Epoch 18/20:-Training loss 0.043\n",
      "Epoch 18/20:-Running loss 0.085\n",
      "Epoch 19/20:-Training loss 0.041\n",
      "Epoch 19/20:-Running loss 0.086\n",
      "Epoch 20/20:-Training loss 0.040\n",
      "Epoch 20/20:-Running loss 0.085\n"
     ]
    }
   ],
   "source": [
    "## YOUR CODE HERE ##\n",
    "device = torch.device(\"cuda\" if torch.cuda.is_available() else \"cpu\")\n",
    "\n",
    "epochs=20\n",
    "train_loss_history=[]\n",
    "test_loss_history=[]\n",
    "\n",
    "for i in range(epochs):\n",
    "    training_loss = 0\n",
    "    running_loss = 0\n",
    "    model.to(device)\n",
    "    model.train()\n",
    "    for images, labels in trainloader:\n",
    "        images = images.view(images.shape[0],-1)\n",
    "        images, labels = images.to(device), labels.to(device)\n",
    "        \n",
    "        optimiser.zero_grad()\n",
    "        output = model(images)\n",
    "        \n",
    "        loss = criterion(output, labels)\n",
    "        loss.backward()\n",
    "        optimiser.step()\n",
    "        \n",
    "        training_loss += loss.item()\n",
    "    \n",
    "    print(f\"Epoch {i+1}/{epochs}:-\"\n",
    "          f\"Training loss {training_loss/len(trainloader):.3f}\")\n",
    "    \n",
    "    train_loss_history.append(training_loss/len(trainloader))\n",
    "    \n",
    "    model.eval()\n",
    "    with torch.no_grad():    \n",
    "        for images, labels in testloader:\n",
    "            images = images.view(images.shape[0],-1)\n",
    "            images, labels = images.to(device), labels.to(device)\n",
    "            \n",
    "            output = model(images)\n",
    "            rloss = criterion(output, labels)\n",
    "            \n",
    "            running_loss += rloss.item()\n",
    "            \n",
    "        print(f\"Epoch {i+1}/{epochs}:-\"\n",
    "          f\"Running loss {running_loss/len(testloader):.3f}\")\n",
    "        \n",
    "        test_loss_history.append(running_loss/len(testloader))  \n",
    "    model.train()"
   ]
  },
  {
   "cell_type": "code",
   "execution_count": 60,
   "metadata": {},
   "outputs": [
    {
     "data": {
      "text/plain": [
       "<matplotlib.legend.Legend at 0x7f5783203ed0>"
      ]
     },
     "execution_count": 60,
     "metadata": {},
     "output_type": "execute_result"
    },
    {
     "data": {
      "image/png": "[encoded data removed]",
      "text/plain": [
       "<Figure size 432x288 with 1 Axes>"
      ]
     },
     "metadata": {
      "needs_background": "light"
     },
     "output_type": "display_data"
    }
   ],
   "source": [
    "l = [i+1 for i in range(20)]\n",
    "\n",
    "plt.plot(l, train_loss_history, label = \"Training loss\")\n",
    "plt.plot(l, test_loss_history, label = \"Running loss\")\n",
    "plt.title(\"Train and Test loss plot\")\n",
    "plt.legend()"
   ]
  },
  {
   "cell_type": "code",
   "execution_count": 61,
   "metadata": {},
   "outputs": [
    {
     "name": "stdout",
     "output_type": "stream",
     "text": [
      "Model accuracy is 97.464\n"
     ]
    },
    {
     "data": {
      "text/plain": [
       "Sequential(\n",
       "  (0): Linear(in_features=784, out_features=512, bias=True)\n",
       "  (1): ReLU()\n",
       "  (2): Linear(in_features=512, out_features=128, bias=True)\n",
       "  (3): ReLU()\n",
       "  (4): Linear(in_features=128, out_features=64, bias=True)\n",
       "  (5): ReLU()\n",
       "  (6): Linear(in_features=64, out_features=10, bias=True)\n",
       "  (7): LogSoftmax(dim=1)\n",
       ")"
      ]
     },
     "execution_count": 61,
     "metadata": {},
     "output_type": "execute_result"
    }
   ],
   "source": [
    "model.eval()\n",
    "device = torch.device(\"cuda\" if torch.cuda.is_available() else \"cpu\")\n",
    "model.to(device)\n",
    "\n",
    "accuracy = 0\n",
    "for images, labels in testloader:\n",
    "    images = images.view(images.shape[0],-1)\n",
    "    images, labels = images.to(device), labels.to(device)\n",
    "        \n",
    "    outputs = model(images)\n",
    "    top_prob, top_class = outputs.topk(1, dim = 1)\n",
    "    equals = top_class==labels.view(top_class.shape)\n",
    "    accuracy += torch.mean(equals.type(torch.FloatTensor))\n",
    "       \n",
    "print(f\"Model accuracy is {accuracy/len(testloader)*100:.3f}\")\n",
    "model.train()"
   ]
  },
  {
   "cell_type": "markdown",
   "metadata": {},
   "source": [
    "## Saving your model\n",
    "Using `torch.save`, save your model for future loading."
   ]
  },
  {
   "cell_type": "code",
   "execution_count": 18,
   "metadata": {
    "execution": {
     "iopub.execute_input": "2023-06-14T05:32:01.692563Z",
     "iopub.status.busy": "2023-06-14T05:32:01.692185Z",
     "iopub.status.idle": "2023-06-14T05:32:01.706709Z",
     "shell.execute_reply": "2023-06-14T05:32:01.705547Z",
     "shell.execute_reply.started": "2023-06-14T05:32:01.692534Z"
    }
   },
   "outputs": [],
   "source": [
    "## YOUR CODE HERE ##\n",
    "checkpoint = {'input_size': 784,\n",
    "              'output_size': 10,\n",
    "              'hidden_layers': [512, 128, 64],\n",
    "              'state_dict': model.state_dict(),\n",
    "               'epochs': 4,}\n",
    "\n",
    "torch.save(checkpoint, 'checkpoint.pth')"
   ]
  },
  {
   "cell_type": "code",
   "execution_count": null,
   "metadata": {},
   "outputs": [],
   "source": []
  }
 ],
 "metadata": {
  "kernelspec": {
   "display_name": "Python 3",
   "language": "python",
   "name": "python3"
  },
  "language_info": {
   "codemirror_mode": {
    "name": "ipython",
    "version": 3
   },
   "file_extension": ".py",
   "mimetype": "text/x-python",
   "name": "python",
   "nbconvert_exporter": "python",
   "pygments_lexer": "ipython3",
   "version": "3.7.6"
  }
 },
 "nbformat": 4,
 "nbformat_minor": 4
}
