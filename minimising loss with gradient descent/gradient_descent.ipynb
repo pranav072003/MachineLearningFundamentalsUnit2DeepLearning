{
 "cells": [
  {
   "cell_type": "markdown",
   "metadata": {},
   "source": [
    "# Implementing Gradient Descent\n",
    "\n",
    "Complete all `TODO` items to implement gradient descent with NumPy"
   ]
  },
  {
   "cell_type": "code",
   "execution_count": 5,
   "metadata": {
    "edited": true,
    "gradable": true,
    "grader_id": "kkpzet649mc",
    "udacity_user_query": ""
   },
   "outputs": [
    {
     "name": "stdout",
     "output_type": "stream",
     "text": [
      "Train loss:  0.261969043893\n",
      "Train loss:  0.202125100848\n",
      "Train loss:  0.198014703524\n",
      "Train loss:  0.197302804049\n",
      "Train loss:  0.197118703358\n",
      "Train loss:  0.197062068052\n",
      "Train loss:  0.197043092313\n",
      "Train loss:  0.197036441905\n",
      "Train loss:  0.197034057071\n",
      "Train loss:  0.197033194133\n",
      "Prediction accuracy: 0.750\n"
     ]
    }
   ],
   "source": [
    "import numpy as np\n",
    "from data_prep import features, targets, features_test, targets_test\n",
    "\n",
    "def sigmoid(x):\n",
    "    \"\"\"\n",
    "    Calculate sigmoid\n",
    "    \"\"\"\n",
    "    return 1 / (1 + np.exp(-x))\n",
    "\n",
    "def update_weights(weights, features, targets, learnrate):\n",
    "    \"\"\"\n",
    "    Complete a single epoch of gradient descent and return updated weights\n",
    "    \"\"\"\n",
    "    del_w = np.zeros(weights.shape)\n",
    "    # Loop through all records, x is the input, y is the target\n",
    "    for x, y in zip(features.values, targets):\n",
    "        # TODO: Calculate the output of f(h) by passing h (the dot product\n",
    "        # of x and weights) into the activation function (sigmoid).\n",
    "        # Replace None with appropriate code\n",
    "        output = sigmoid(np.dot(weights,x))\n",
    "\n",
    "        # TODO: Calculate the error by subtracting the network output\n",
    "        # from the target (y).\n",
    "        # Replace None with appropriate code\n",
    "        error = y - output\n",
    "\n",
    "        # TODO: Calculate the error term by multiplying the error by the\n",
    "        # gradient. Recall that the gradient of the sigmoid f(h) is\n",
    "        # f(h)*(1−f(h)) so you do not need to call any additional\n",
    "        # functions and can simply apply this formula to the output and\n",
    "        # error you already calculated.\n",
    "        # Replace None with appropriate code\n",
    "        error_term = error * sigmoid(x) * (1 - sigmoid(x))\n",
    "\n",
    "        # TODO: Update the weight step by multiplying the error term by\n",
    "        # the input (x) and adding this to the current weight step.\n",
    "        # Replace 0 with appropriate code\n",
    "        del_w += error_term * x\n",
    "\n",
    "    n_records = features.shape[0]\n",
    "    # TODO: Update the weights by adding the learning rate times the\n",
    "    # change in weights divided by the number of records.\n",
    "    # Replace 0 with appropriate code\n",
    "    weights += del_w / n_records\n",
    "    \n",
    "    return weights\n",
    "\n",
    "def gradient_descent(features, targets, epochs=1000, learnrate=0.5):\n",
    "    \"\"\"\n",
    "    Perform the complete gradient descent process on a given dataset\n",
    "    \"\"\"\n",
    "    # Use to same seed to make debugging easier\n",
    "    np.random.seed(42)\n",
    "    \n",
    "    # Initialize loss and weights\n",
    "    last_loss = None\n",
    "    n_features = features.shape[1]\n",
    "    weights = np.random.normal(scale=1/n_features**.5, size=n_features)\n",
    "\n",
    "    # Repeatedly update the weights based on the number of epochs\n",
    "    for e in range(epochs):\n",
    "        weights = update_weights(weights, features, targets, learnrate)\n",
    "\n",
    "        # Printing out the MSE on the training set every 10 epochs.\n",
    "        # Initially this will print the same loss every time. When all of\n",
    "        # the TODOs are complete, the MSE should decrease with each\n",
    "        # printout\n",
    "        if e % (epochs / 10) == 0:\n",
    "            out = sigmoid(np.dot(features, weights))\n",
    "            loss = np.mean((out - targets) ** 2)\n",
    "            if last_loss and last_loss < loss:\n",
    "                print(\"Train loss: \", loss, \"  WARNING - Loss Increasing\")\n",
    "            else:\n",
    "                print(\"Train loss: \", loss)\n",
    "            last_loss = loss\n",
    "            \n",
    "    return weights\n",
    "\n",
    "# Calculate accuracy on test data\n",
    "weights = gradient_descent(features, targets)\n",
    "tes_out = sigmoid(np.dot(features_test, weights))\n",
    "predictions = tes_out > 0.5\n",
    "accuracy = np.mean(predictions == targets_test)\n",
    "print(\"Prediction accuracy: {:.3f}\".format(accuracy))"
   ]
  },
  {
   "cell_type": "code",
   "execution_count": null,
   "metadata": {},
   "outputs": [],
   "source": []
  }
 ],
 "metadata": {
  "grader_mode": "",
  "kernelspec": {
   "display_name": "Python 3",
   "language": "python",
   "name": "python3"
  },
  "language_info": {
   "codemirror_mode": {
    "name": "ipython",
    "version": 3
   },
   "file_extension": ".py",
   "mimetype": "text/x-python",
   "name": "python",
   "nbconvert_exporter": "python",
   "pygments_lexer": "ipython3",
   "version": "3.6.3"
  },
  "showGradeBtn": true
 },
 "nbformat": 4,
 "nbformat_minor": 2
}
