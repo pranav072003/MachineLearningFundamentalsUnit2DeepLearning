{
 "cells": [
  {
   "cell_type": "markdown",
   "metadata": {},
   "source": [
    "# Multilayer Perceptron\n",
    "\n",
    "Complete all `TODO` items to implement a forward pass through a multilayer perceptron with NumPy."
   ]
  },
  {
   "cell_type": "code",
   "execution_count": 2,
   "metadata": {
    "edited": true,
    "gradable": true,
    "grader_id": "0jo9plhq6un7",
    "udacity_user_query": ""
   },
   "outputs": [
    {
     "name": "stdout",
     "output_type": "stream",
     "text": [
      "Hidden-layer Output:\n",
      "[ 0.41492192  0.42604313  0.5002434 ]\n",
      "Output-layer Output:\n",
      "[ 0.49815196  0.48539772]\n"
     ]
    }
   ],
   "source": [
    "import numpy as np\n",
    "\n",
    "def sigmoid(x):\n",
    "    \"\"\"\n",
    "    Calculate sigmoid\n",
    "    \"\"\"\n",
    "    return 1/(1+np.exp(-x))\n",
    "\n",
    "def forward_pass(x, weights_input_to_hidden, weights_hidden_to_output):\n",
    "    \"\"\"\n",
    "    Make a forward pass through the network\n",
    "    \"\"\"\n",
    "    # TODO: Calculate the input to the hidden layer.\n",
    "    # Replace None with appropriate code\n",
    "    hidden_layer_in = np.dot(x,weights_input_to_hidden)\n",
    "    \n",
    "    # TODO: Calculate the hidden layer output.\n",
    "    # Replace None with appropriate code\n",
    "    hidden_layer_out = sigmoid(hidden_layer_in)\n",
    "    \n",
    "    print('Hidden-layer Output:')\n",
    "    print(hidden_layer_out)\n",
    "    \n",
    "    # TODO: Calculate the input to the output layer.\n",
    "    # Replace None with appropriate code\n",
    "    output_layer_in = np.dot(hidden_layer_out,weights_hidden_to_output)\n",
    "    \n",
    "    # TODO: Calculate the output of the network.\n",
    "    # Replace None with approprite code\n",
    "    output_layer_out = sigmoid(output_layer_in)\n",
    "    \n",
    "    print('Output-layer Output:')\n",
    "    print(output_layer_out)\n",
    "    \n",
    "    return hidden_layer_out, output_layer_out\n",
    "\n",
    "# Network size\n",
    "N_input = 4\n",
    "N_hidden = 3\n",
    "N_output = 2\n",
    "\n",
    "# Make some fake data\n",
    "np.random.seed(42)\n",
    "x = np.random.randn(N_input)\n",
    "weights_input_to_hidden = np.random.normal(0, scale=0.1, size=(N_input, N_hidden))\n",
    "weights_hidden_to_output = np.random.normal(0, scale=0.1, size=(N_hidden, N_output))\n",
    "\n",
    "# Run forward_pass with fake data\n",
    "hidden_layer_out, output_layer_out = forward_pass(x, weights_input_to_hidden, weights_hidden_to_output)"
   ]
  },
  {
   "cell_type": "code",
   "execution_count": null,
   "metadata": {},
   "outputs": [],
   "source": []
  }
 ],
 "metadata": {
  "grader_mode": "",
  "kernelspec": {
   "display_name": "Python 3",
   "language": "python",
   "name": "python3"
  },
  "language_info": {
   "codemirror_mode": {
    "name": "ipython",
    "version": 3
   },
   "file_extension": ".py",
   "mimetype": "text/x-python",
   "name": "python",
   "nbconvert_exporter": "python",
   "pygments_lexer": "ipython3",
   "version": "3.6.3"
  },
  "showGradeBtn": true
 },
 "nbformat": 4,
 "nbformat_minor": 2
}
