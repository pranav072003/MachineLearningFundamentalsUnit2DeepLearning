{
 "cells": [
  {
   "cell_type": "markdown",
   "metadata": {},
   "source": [
    "# Implementing a Backward Pass\n",
    "\n",
    "Complete all `TODO` items to implement a backward pass with NumPy"
   ]
  },
  {
   "cell_type": "code",
   "execution_count": 1,
   "metadata": {
    "edited": true,
    "gradable": true,
    "grader_id": "idovd1yhep",
    "udacity_user_query": ""
   },
   "outputs": [
    {
     "name": "stdout",
     "output_type": "stream",
     "text": [
      "Change in weights for hidden layer to output layer:\n",
      "[ 0.00804047  0.00555918]\n",
      "Change in weights for input layer to hidden layer:\n",
      "[[  1.77005547e-04  -5.11178506e-04]\n",
      " [  3.54011093e-05  -1.02235701e-04]\n",
      " [ -7.08022187e-05   2.04471402e-04]]\n"
     ]
    }
   ],
   "source": [
    "import numpy as np\n",
    "\n",
    "def sigmoid(x):\n",
    "    \"\"\"\n",
    "    Calculate sigmoid\n",
    "    \"\"\"\n",
    "    return 1/(1+np.exp(-x))\n",
    "\n",
    "def forward_pass(x, weights_input_to_hidden, weights_hidden_to_output):\n",
    "    \"\"\"\n",
    "    Make a forward pass through the network\n",
    "    \"\"\"\n",
    "    # Calculate the input to the hidden layer.\n",
    "    hidden_layer_in = np.dot(x, weights_input_to_hidden)\n",
    "    # Calculate the hidden layer output.\n",
    "    hidden_layer_out = sigmoid(hidden_layer_in)\n",
    "\n",
    "    # Calculate the input to the output layer.\n",
    "    output_layer_in = np.dot(hidden_layer_out, weights_hidden_to_output)\n",
    "    # Calculate the output of the network.\n",
    "    output_layer_out = sigmoid(output_layer_in)\n",
    "\n",
    "    return hidden_layer_out, output_layer_out\n",
    "\n",
    "def backward_pass(x, target, learnrate, hidden_layer_out, \\\n",
    "                  output_layer_out, weights_hidden_to_output):\n",
    "    \"\"\"\n",
    "    Make a backward pass through the network\n",
    "    \"\"\"\n",
    "    # TODO: Calculate output error\n",
    "    # Replace None with appropriate code\n",
    "    error = target - output_layer_out\n",
    "    \n",
    "    # TODO: Calculate error term for output layer\n",
    "    # Replace None with appropriate code\n",
    "    output_error_term = error * sigmoid(np.dot(weights_hidden_to_output,hidden_layer_out)) * (1 - sigmoid(np.dot(weights_hidden_to_output,hidden_layer_out)))\n",
    "\n",
    "    # TODO: Calculate error term for hidden layer\n",
    "    # Replace None with appropriate code\n",
    "    hidden_error_term = output_error_term * hidden_layer_out * (1 - hidden_layer_out) * weights_hidden_to_output\n",
    "    \n",
    "    # TODO: Calculate change in weights for hidden layer to output layer\n",
    "    # Replace None with appropriate code\n",
    "    delta_w_h_o = learnrate * output_error_term * hidden_layer_out\n",
    "    \n",
    "    # TODO: Calculate change in weights for input layer to hidden layer\n",
    "    # Replace None with appropriate code\n",
    "    delta_w_i_h = learnrate * hidden_error_term * x[:,None]\n",
    "    \n",
    "    return delta_w_h_o, delta_w_i_h\n",
    "\n",
    "# Create data to run through the network\n",
    "x = np.array([0.5, 0.1, -0.2])\n",
    "target = 0.6\n",
    "learnrate = 0.5\n",
    "weights_input_to_hidden = np.array([\n",
    "    [0.5, -0.6],\n",
    "    [0.1, -0.2],\n",
    "    [0.1, 0.7]\n",
    "])\n",
    "weights_hidden_to_output = np.array([0.1, -0.3])\n",
    "\n",
    "# Forward pass\n",
    "hidden_layer_out, output_layer_out = forward_pass(\n",
    "    x, weights_input_to_hidden, weights_hidden_to_output\n",
    ")\n",
    "\n",
    "# Backward pass\n",
    "delta_w_h_o, delta_w_i_h = backward_pass(\n",
    "    x, target, learnrate, hidden_layer_out, output_layer_out, \\\n",
    "    weights_hidden_to_output\n",
    ")\n",
    "\n",
    "print('Change in weights for hidden layer to output layer:')\n",
    "print(delta_w_h_o)\n",
    "print('Change in weights for input layer to hidden layer:')\n",
    "print(delta_w_i_h)"
   ]
  },
  {
   "cell_type": "code",
   "execution_count": null,
   "metadata": {},
   "outputs": [],
   "source": []
  }
 ],
 "metadata": {
  "grader_mode": "",
  "kernelspec": {
   "display_name": "Python 3",
   "language": "python",
   "name": "python3"
  },
  "language_info": {
   "codemirror_mode": {
    "name": "ipython",
    "version": 3
   },
   "file_extension": ".py",
   "mimetype": "text/x-python",
   "name": "python",
   "nbconvert_exporter": "python",
   "pygments_lexer": "ipython3",
   "version": "3.6.3"
  },
  "showGradeBtn": true
 },
 "nbformat": 4,
 "nbformat_minor": 2
}
